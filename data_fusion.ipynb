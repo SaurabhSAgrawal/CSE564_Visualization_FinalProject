{
 "cells": [
  {
   "cell_type": "code",
   "execution_count": 9,
   "metadata": {},
   "outputs": [],
   "source": [
    "import pandas as pd"
   ]
  },
  {
   "cell_type": "code",
   "execution_count": 10,
   "metadata": {},
   "outputs": [],
   "source": [
    "happiness = pd.read_csv(\"data/happiness.csv\")\n",
    "alcohol = pd.read_csv(\"data/alcohol.csv\")\n",
    "merge2 = pd.merge(happiness, alcohol, how=\"outer\", on=[\"Country\", \"Year\"])\n",
    "merge2.to_csv(\"data/merge2.csv\", index=False)"
   ]
  },
  {
   "cell_type": "code",
   "execution_count": 7,
   "metadata": {},
   "outputs": [],
   "source": [
    "names = [\"All\", \"Beer\", \"Wine\", \"Spirits\", \"Other\"]\n",
    "for name in names:\n",
    "    with open(\"data/\"+name+\".csv\", \"w\") as w:\n",
    "        with open(\"data/alcohol.csv\", \"r\") as r:\n",
    "            lines = r.readlines()\n",
    "            first = True\n",
    "            for line in lines:\n",
    "                if first:\n",
    "                    w.write(line)\n",
    "                    first = False\n",
    "                if name in line:\n",
    "                    w.write(line)"
   ]
  },
  {
   "cell_type": "code",
   "execution_count": 8,
   "metadata": {},
   "outputs": [],
   "source": [
    "all_t = pd.read_csv(\"data/All.csv\")\n",
    "beer = pd.read_csv(\"data/Beer.csv\")\n",
    "wine = pd.read_csv(\"data/Wine.csv\")\n",
    "spirits = pd.read_csv(\"data/Spirits.csv\")\n",
    "other = pd.read_csv(\"data/Other.csv\")\n",
    "\n",
    "merged = pd.merge(happiness, all_t, how=\"outer\", on=[\"Country\", \"Year\"])\n",
    "merged = pd.merge(merged, beer, how=\"outer\", on=[\"Country\", \"Year\"])\n",
    "merged = pd.merge(merged, wine, how=\"outer\", on=[\"Country\", \"Year\"])\n",
    "merged = pd.merge(merged, spirits, how=\"outer\", on=[\"Country\", \"Year\"])\n",
    "merged = pd.merge(merged, other, how=\"outer\", on=[\"Country\", \"Year\"])\n",
    "\n",
    "\n",
    "merged.to_csv(\"data/merged.csv\", index=False)"
   ]
  }
 ],
 "metadata": {
  "kernelspec": {
   "display_name": "Python 3",
   "language": "python",
   "name": "python3"
  },
  "language_info": {
   "codemirror_mode": {
    "name": "ipython",
    "version": 3
   },
   "file_extension": ".py",
   "mimetype": "text/x-python",
   "name": "python",
   "nbconvert_exporter": "python",
   "pygments_lexer": "ipython3",
   "version": "3.8.5"
  }
 },
 "nbformat": 4,
 "nbformat_minor": 4
}
