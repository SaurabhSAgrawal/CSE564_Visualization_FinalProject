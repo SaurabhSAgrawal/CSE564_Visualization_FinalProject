{
 "cells": [
  {
   "cell_type": "code",
   "execution_count": 2,
   "metadata": {},
   "outputs": [],
   "source": [
    "import pandas as pd\n",
    "import numpy as np\n",
    "from IPython.display import display"
   ]
  },
  {
   "cell_type": "code",
   "execution_count": 3,
   "metadata": {},
   "outputs": [],
   "source": [
    "with open(\"data/happiness_2015_2020.csv\", \"w\") as w:\n",
    "    for year in range(2015, 2021):\n",
    "        with open(\"data/happiness/\"+str(year)+\".csv\", \"r\") as r:\n",
    "            lines = r.readlines()\n",
    "            for line in lines:\n",
    "                if year > 2015 and \"Country name\" in line:\n",
    "                    continue\n",
    "                w.write(line)"
   ]
  },
  {
   "cell_type": "code",
   "execution_count": 37,
   "metadata": {},
   "outputs": [
    {
     "name": "stdout",
     "output_type": "stream",
     "text": [
      "\n",
      "2015\n",
      "Country\n",
      "Region\n",
      "Rank\n",
      "Happiness Score\n",
      "Standard Error\n",
      "GDP per capita\n",
      "Family\n",
      "Healthy life expectancy\n",
      "Freedom to make life choices\n",
      "Perceptions of corruption\n",
      "Generosity\n",
      "Dystopia Residual\n",
      "\n",
      "2016\n",
      "Country\n",
      "Region\n",
      "Rank\n",
      "Happiness Score\n",
      "Lower Confidence Interval\n",
      "Upper Confidence Interval\n",
      "GDP per capita\n",
      "Family\n",
      "Healthy life expectancy\n",
      "Freedom to make life choices\n",
      "Perceptions of corruption\n",
      "Generosity\n",
      "Dystopia Residual\n",
      "\n",
      "2017\n",
      "Country\n",
      "Rank\n",
      "Happiness Score\n",
      "Whisker.high\n",
      "Whisker.low\n",
      "GDP per capita\n",
      "Family\n",
      "Healthy life expectancy\n",
      "Freedom to make life choices\n",
      "Generosity\n",
      "Perceptions of corruption\n",
      "Dystopia Residual\n",
      "\n",
      "2018\n",
      "Rank\n",
      "Country\n",
      "Happiness Score\n",
      "GDP per capita\n",
      "Social support\n",
      "Healthy life expectancy\n",
      "Freedom to make life choices\n",
      "Generosity\n",
      "Perceptions of corruption\n",
      "\n",
      "2019\n",
      "Rank\n",
      "Country\n",
      "Happiness Score\n",
      "GDP per capita\n",
      "Social support\n",
      "Healthy life expectancy\n",
      "Freedom to make life choices\n",
      "Generosity\n",
      "Perceptions of corruption\n",
      "\n",
      "2020\n",
      "Country\n",
      "Region\n",
      "Happiness Score\n",
      "Standard Error\n",
      "upperwhisker\n",
      "lowerwhisker\n",
      "Logged GDP per capita\n",
      "Social support\n",
      "Healthy life expectancy\n",
      "Freedom to make life choices\n",
      "Generosity\n",
      "Perceptions of corruption\n",
      "Ladder score in Dystopia\n",
      "Explained by: Log GDP per capita\n",
      "Explained by: Social support\n",
      "Explained by: Healthy life expectancy\n",
      "Explained by: Freedom to make life choices\n",
      "Explained by: Generosity\n",
      "Explained by: Perceptions of corruption\n",
      "Dystopia Residual\n"
     ]
    }
   ],
   "source": [
    "for year in range(2015, 2021):\n",
    "    data = pd.read_csv(\"data/happiness/\"+str(year)+\".csv\")\n",
    "    print()\n",
    "    print(year)\n",
    "    for column in data.columns:\n",
    "        print(column)\n",
    "#     display(data.head())"
   ]
  },
  {
   "cell_type": "code",
   "execution_count": 38,
   "metadata": {},
   "outputs": [],
   "source": [
    "happiness = pd.read_csv(\"data/happiness.csv\")\n",
    "alcohol = pd.read_csv(\"data/alcohol.csv\")\n",
    "merged = pd.merge(happiness, alcohol, on=[\"Country\", \"Year\"])"
   ]
  },
  {
   "cell_type": "code",
   "execution_count": 39,
   "metadata": {},
   "outputs": [],
   "source": [
    " All types\n",
    " Beer\n",
    " Wine\n",
    " Spirits\n",
    " Other alcoholic beverages"
   ]
  },
  {
   "cell_type": "code",
   "execution_count": 40,
   "metadata": {},
   "outputs": [],
   "source": [
    "names = [\"All\", \"Beer\", \"Wine\", \"Spirits\", \"Other\"]\n",
    "for name in names:\n",
    "    with open(\"data/\"+name+\".csv\", \"w\") as w:\n",
    "        with open(\"data/alcohol.csv\", \"r\") as r:\n",
    "            lines = r.readlines()\n",
    "            for line in lines:\n",
    "                if name in line.split():\n",
    "                    w.write(line)"
   ]
  }
 ],
 "metadata": {
  "kernelspec": {
   "display_name": "Python 3",
   "language": "python",
   "name": "python3"
  },
  "language_info": {
   "codemirror_mode": {
    "name": "ipython",
    "version": 3
   },
   "file_extension": ".py",
   "mimetype": "text/x-python",
   "name": "python",
   "nbconvert_exporter": "python",
   "pygments_lexer": "ipython3",
   "version": "3.8.5"
  }
 },
 "nbformat": 4,
 "nbformat_minor": 4
}
